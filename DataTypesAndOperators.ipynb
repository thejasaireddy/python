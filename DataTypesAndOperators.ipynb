{
 "cells": [
  {
   "cell_type": "code",
   "execution_count": 1,
   "metadata": {},
   "outputs": [
    {
     "name": "stdout",
     "output_type": "stream",
     "text": [
      "39.666666666666664\n"
     ]
    }
   ],
   "source": [
    "# Write an expression that calculates the average of 23, 32 and 64\n",
    "# Place the expression in this print statement\n",
    "print((23+32+64)/3)"
   ]
  },
  {
   "cell_type": "code",
   "execution_count": 2,
   "metadata": {},
   "outputs": [
    {
     "name": "stdout",
     "output_type": "stream",
     "text": [
      "98\n",
      "102\n",
      "4\n"
     ]
    }
   ],
   "source": [
    "\"\"\"\n",
    "In this quiz you're going to do some calculations for a tiler. Two parts of a floor need tiling. One part is 9 tiles wide by 7 tiles long, the other is 5 tiles wide by 7 tiles long. \n",
    "Tiles come in packages of 6.\n",
    "\n",
    "How many tiles are needed?\n",
    "You buy 17 packages of tiles containing 6 tiles each. How many tiles will be left over?\n",
    "\"\"\"\n",
    "tiles_needed = 9*7 + 5*7\n",
    "tiles_purchased = 17*6\n",
    "tiles_left = tiles_purchased - tiles_needed\n",
    "print(tiles_needed)\n",
    "print(tiles_purchased)\n",
    "print(tiles_left)"
   ]
  },
  {
   "cell_type": "code",
   "execution_count": 3,
   "metadata": {},
   "outputs": [
    {
     "name": "stdout",
     "output_type": "stream",
     "text": [
      "447627500.0\n"
     ]
    }
   ],
   "source": [
    "# The current volume of a water reservoir (in cubic metres)\n",
    "reservoir_volume = 4.445e8\n",
    "# The amount of rainfall from a storm (in cubic metres)\n",
    "rainfall = 5e6\n",
    "\n",
    "# decrease the rainfall variable by 10% to account for runoff\n",
    "rainfall -= rainfall*0.1\n",
    "# add the rainfall variable to the reservoir_volume variable\n",
    "reservoir_volume += rainfall\n",
    "# increase reservoir_volume by 5% to account for stormwater that flows\n",
    "# into the reservoir in the days following the storm\n",
    "reservoir_volume += reservoir_volume*0.05\n",
    "\n",
    "# decrease reservoir_volume by 5% to account for evaporation\n",
    "reservoir_volume -= reservoir_volume*0.05\n",
    "# subtract 2.5e5 cubic metres from reservoir_volume to account for water\n",
    "# that's piped to arid regions.\n",
    "reservoir_volume -= 2.5e5\n",
    "# print the new value of the reservoir_volume variable\n",
    "print(reservoir_volume)"
   ]
  },
  {
   "cell_type": "code",
   "execution_count": 5,
   "metadata": {},
   "outputs": [
    {
     "name": "stdout",
     "output_type": "stream",
     "text": [
      "False\n"
     ]
    }
   ],
   "source": [
    "sf_population, sf_area = 864816, 231.89\n",
    "rio_population, rio_area = 6453682, 486.5\n",
    "\n",
    "san_francisco_pop_density = sf_population/sf_area\n",
    "rio_de_janeiro_pop_density = rio_population/rio_area\n",
    "\n",
    "# Write code that prints True if San Francisco is denser than Rio, and False otherwise\n",
    "print(san_francisco_pop_density > rio_de_janeiro_pop_density)"
   ]
  },
  {
   "cell_type": "code",
   "execution_count": 9,
   "metadata": {},
   "outputs": [
    {
     "name": "stdout",
     "output_type": "stream",
     "text": [
      "Kinari accessed the site http://petshop.com/pets/mammals/cats at 04:50\n"
     ]
    }
   ],
   "source": [
    "username = \"Kinari\"\n",
    "timestamp = \"04:50\"\n",
    "url = \"http://petshop.com/pets/mammals/cats\"\n",
    "\n",
    "# TODO: print a log message using the variables above.\n",
    "# The message should have the same format as this one:\n",
    "# \"Yogesh accessed the site http://petshop.com/pets/reptiles/pythons at 16:20.\"\n",
    "\n",
    "print(username + \" accessed the site \" + url + \" at \" + timestamp + \".\")"
   ]
  },
  {
   "cell_type": "code",
   "execution_count": 11,
   "metadata": {},
   "outputs": [
    {
     "name": "stdout",
     "output_type": "stream",
     "text": [
      "True\n"
     ]
    }
   ],
   "source": [
    "given_name = \"William\"\n",
    "middle_names = \"Bradley\"\n",
    "family_name = \"Pitt\"\n",
    "\n",
    "\n",
    "# Now we check to make sure that the name fits within the driving license character limit\n",
    "# Nothing you need to do here\n",
    "driving_license_character_limit = 28\n",
    "print(name_length <= driving_license_character_limit)"
   ]
  },
  {
   "cell_type": "code",
   "execution_count": 14,
   "metadata": {},
   "outputs": [
    {
     "name": "stdout",
     "output_type": "stream",
     "text": [
      "This week's total sales: 529\n"
     ]
    }
   ],
   "source": [
    "mon_sales = \"121\"\n",
    "tues_sales = \"105\"\n",
    "wed_sales = \"110\"\n",
    "thurs_sales = \"98\"\n",
    "fri_sales = \"95\"\n",
    "\n",
    "#TODO: Print a string with this format: This week's total sales: xxx\n",
    "# You will probably need to write some lines of code before the print statement.\n",
    "\n",
    "print(\"This week\\'s total sales: \" + str(int(mon_sales) + int(tues_sales) + int(wed_sales) + int(thurs_sales) + int(fri_sales)))"
   ]
  },
  {
   "cell_type": "code",
   "execution_count": 19,
   "metadata": {},
   "outputs": [
    {
     "name": "stdout",
     "output_type": "stream",
     "text": [
      "362\n",
      "65\n",
      "186\n",
      "8\n"
     ]
    }
   ],
   "source": [
    "verse = \"If you can keep your head when all about you\\n  Are losing theirs and blaming it on you,\\nIf you can trust yourself when all men doubt you,\\n  But make allowance for their doubting too;\\nIf you can wait and not be tired by waiting,\\n  Or being lied about, don’t deal in lies,\\nOr being hated, don’t give way to hating,\\n  And yet don’t look too good, nor talk too wise:\"\n",
    "#print(verse)\n",
    "print(len(verse))\n",
    "print(verse.index(\"and\"))\n",
    "print(verse.rindex(\"you\"))\n",
    "print(verse.count(\"you\"))"
   ]
  }
 ],
 "metadata": {
  "kernelspec": {
   "display_name": "Python 3",
   "language": "python",
   "name": "python3"
  },
  "language_info": {
   "codemirror_mode": {
    "name": "ipython",
    "version": 3
   },
   "file_extension": ".py",
   "mimetype": "text/x-python",
   "name": "python",
   "nbconvert_exporter": "python",
   "pygments_lexer": "ipython3",
   "version": "3.11.3"
  },
  "orig_nbformat": 4
 },
 "nbformat": 4,
 "nbformat_minor": 2
}
