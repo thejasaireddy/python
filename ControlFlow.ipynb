{
 "cells": [
  {
   "cell_type": "code",
   "execution_count": 3,
   "metadata": {},
   "outputs": [
    {
     "name": "stdout",
     "output_type": "stream",
     "text": [
      "Congratulations! You won a wafer-thin mint!\n"
     ]
    }
   ],
   "source": [
    "'''\n",
    "Points\t    Prize\n",
    "1 - 50\t    wooden rabbit\n",
    "51 - 150\tno prize\n",
    "151 - 180\twafer-thin mint\n",
    "181 - 200\tpenguin\n",
    "In your if statement, assign the result variable to a string holding the appropriate message based on the value of points. \n",
    "If they've won a prize, the message should state \"Congratulations! You won a [prize name]!\" with the prize name. If there's no prize, \n",
    "the message should state \"Oh dear, no prize this time.\"\n",
    "'''\n",
    "points = 174  # use this input to make your submission\n",
    "result = ''\n",
    "# write your if statement here\n",
    "if 1 <= points <= 50:\n",
    "    result += \"Congratulations! You won a wooden rabbit!\"\n",
    "elif 51 <= points <= 150:\n",
    "    result = \"Oh dear, no prize this time\"\n",
    "elif 151 <= points <= 180:\n",
    "    result += \"Congratulations! You won a wafer-thin mint!\"\n",
    "elif 181 <= points <= 200:\n",
    "    result += \"Congratulations! You won a penguin!\"\n",
    "print(result)"
   ]
  },
  {
   "cell_type": "code",
   "execution_count": 5,
   "metadata": {},
   "outputs": [
    {
     "name": "stdout",
     "output_type": "stream",
     "text": [
      "Nice!  Your guess matched the answer!\n"
     ]
    }
   ],
   "source": [
    "# '''\n",
    "# You decide you want to play a game where you are hiding \n",
    "# a number from someone.  Store this number in a variable \n",
    "# called 'answer'.  Another user provides a number called\n",
    "# 'guess'.  By comparing guess to answer, you inform the user\n",
    "# if their guess is too high or too low.\n",
    "\n",
    "# Fill in the conditionals below to inform the user about how\n",
    "# their guess compares to the answer.\n",
    "# '''\n",
    "answer = 21 #provide answer\n",
    "guess = 12 #provide guess\n",
    "\n",
    "if guess < answer: #provide conditional\n",
    "    result = \"Oops!  Your guess was too low.\"\n",
    "elif guess > answer: #provide conditional\n",
    "    result = \"Oops!  Your guess was too high.\"\n",
    "else: #provide conditional\n",
    "    result = \"Nice!  Your guess matched the answer!\"\n",
    "\n",
    "print(result)"
   ]
  },
  {
   "cell_type": "code",
   "execution_count": 8,
   "metadata": {},
   "outputs": [
    {
     "name": "stdout",
     "output_type": "stream",
     "text": [
      "Since you're from NY, your total cost is 22.869.\n"
     ]
    }
   ],
   "source": [
    "# '''\n",
    "# Depending on where an individual is from we need to tax them \n",
    "# appropriately.  The states of CA, MN, and \n",
    "# NY have taxes of 7.5%, 9.5%, and 8.9% respectively.\n",
    "# Use this information to take the amount of a purchase and \n",
    "# the corresponding state to assure that they are taxed by the right\n",
    "# amount.\n",
    "# '''\n",
    "state = 'NY' #Either CA, MN, or NY\n",
    "purchase_amount = 21 #amount of purchase\n",
    "\n",
    "if state == 'CA': #provide conditional for checking state is CA\n",
    "    tax_amount = .075\n",
    "    total_cost = purchase_amount*(1+tax_amount)\n",
    "    result = \"Since you're from {}, your total cost is {}.\".format(state, total_cost)\n",
    "\n",
    "elif state == 'MN':#provide conditional for checking state is MN\n",
    "    tax_amount = .095\n",
    "    total_cost = purchase_amount*(1+tax_amount)\n",
    "    result = \"Since you're from {}, your total cost is {}.\".format(state, total_cost)\n",
    "\n",
    "elif state == 'NY':#provide conditional for checking state is NY\n",
    "    tax_amount = .089\n",
    "    total_cost = purchase_amount*(1+tax_amount)\n",
    "    result = \"Since you're from {}, your total cost is {}.\".format(state, total_cost)\n",
    "\n",
    "print(result)"
   ]
  },
  {
   "cell_type": "code",
   "execution_count": 13,
   "metadata": {},
   "outputs": [
    {
     "name": "stdout",
     "output_type": "stream",
     "text": [
      "Congratulations! You won a wafer-thin mint!\n"
     ]
    }
   ],
   "source": [
    "'''\n",
    "Points\t    Prize\n",
    "1 - 50\t    wooden rabbit\n",
    "51 - 150\tno prize\n",
    "151 - 180\twafer-thin mint\n",
    "181 - 200\tpenguin\n",
    "'''\n",
    "points = 174  # use this as input for your submission\n",
    "\n",
    "# establish the default prize value to None\n",
    "prize = None\n",
    "\n",
    "# use the points value to assign prizes to the correct prize names\n",
    "if points <= 50:\n",
    "    prize = \"wooden rabbit\"\n",
    "elif points <= 150:\n",
    "    prize = None\n",
    "elif points <= 180:\n",
    "    prize = \"wafer-thin mint\"\n",
    "elif points <= 200:\n",
    "    prize = \"penguin\"\n",
    "\n",
    "# use the truth value of prize to assign result to the correct prize\n",
    "if prize:\n",
    "    print(\"Congratulations! You won a {}!\".format(prize))\n",
    "else:\n",
    "    print(\"Oh dear, no prize this time\")"
   ]
  },
  {
   "cell_type": "code",
   "execution_count": 15,
   "metadata": {},
   "outputs": [
    {
     "name": "stdout",
     "output_type": "stream",
     "text": [
      "['New York City', 'Mountain View', 'Chicago', 'Los Angeles']\n"
     ]
    }
   ],
   "source": [
    "cities = ['new york city', 'mountain view', 'chicago', 'los angeles']\n",
    "capitalized_cities = []\n",
    "\n",
    "for city in cities:\n",
    "    capitalized_cities.append(city.title())\n",
    "\n",
    "print(capitalized_cities)"
   ]
  },
  {
   "cell_type": "code",
   "execution_count": 18,
   "metadata": {},
   "outputs": [
    {
     "name": "stdout",
     "output_type": "stream",
     "text": [
      "the\n",
      "quick\n",
      "brown\n",
      "fox\n",
      "jumped\n",
      "over\n",
      "the\n",
      "lazy\n",
      "dog\n"
     ]
    }
   ],
   "source": [
    "sentence = [\"the\", \"quick\", \"brown\", \"fox\", \"jumped\", \"over\", \"the\", \"lazy\", \"dog\"]\n",
    "\n",
    "line = \"\"\n",
    "# Write a for loop to print out each word in the sentence list, one word per line\n",
    "for word in sentence:\n",
    "    print(word)"
   ]
  },
  {
   "cell_type": "code",
   "execution_count": 20,
   "metadata": {},
   "outputs": [
    {
     "name": "stdout",
     "output_type": "stream",
     "text": [
      "5\n",
      "10\n",
      "15\n",
      "20\n",
      "25\n",
      "30\n"
     ]
    }
   ],
   "source": [
    "# Write a for loop below that will print out every whole number that is a multiple of 5 and less than or equal to 30.\n",
    "\n",
    "for e in range(5, 31, 5):\n",
    "    print(e)"
   ]
  },
  {
   "cell_type": "code",
   "execution_count": 22,
   "metadata": {},
   "outputs": [
    {
     "name": "stdout",
     "output_type": "stream",
     "text": [
      "['joey_tribbiani', 'monica_geller', 'chandler_bing', 'phoebe_buffay']\n"
     ]
    }
   ],
   "source": [
    "'''\n",
    "Write a for loop that iterates over the names list to create a usernames list. \n",
    "To create a username for each name, make everything lowercase and replace spaces with underscores. \n",
    "Running your for loop over the list:\n",
    "'''\n",
    "\n",
    "names = [\"Joey Tribbiani\", \"Monica Geller\", \"Chandler Bing\", \"Phoebe Buffay\"]\n",
    "usernames = []\n",
    "\n",
    "# write your for loop here\n",
    "for name in names:\n",
    "    name = name.lower().replace(\" \", \"_\")\n",
    "    usernames.append(name)\n",
    "print(usernames)"
   ]
  },
  {
   "cell_type": "code",
   "execution_count": 28,
   "metadata": {},
   "outputs": [
    {
     "name": "stdout",
     "output_type": "stream",
     "text": [
      "['joey_tribbiani', 'monica_geller', 'chandler_bing', 'phoebe_buffay']\n"
     ]
    }
   ],
   "source": [
    "'''\n",
    "Write a for loop that uses range() to iterate over the positions in usernames to modify the list. \n",
    "Like you did in the previous quiz, change each name to be lowercase and replace spaces with underscores.\n",
    " After running your loop, this list\n",
    " '''\n",
    "\n",
    "usernames = [\"Joey Tribbiani\", \"Monica Geller\", \"Chandler Bing\", \"Phoebe Buffay\"]\n",
    "\n",
    "# write your for loop here\n",
    "for e in range(len(usernames)):\n",
    "    usernames[e] = usernames[e].lower().replace(\" \", \"_\")\n",
    "print(usernames)"
   ]
  },
  {
   "cell_type": "code",
   "execution_count": 25,
   "metadata": {},
   "outputs": [
    {
     "name": "stdout",
     "output_type": "stream",
     "text": [
      "2\n"
     ]
    }
   ],
   "source": [
    "'''\n",
    "Write a for loop that iterates over a list of strings, tokens, and counts how many of them are XML tags. \n",
    "XML is a data language similar to HTML. You can tell if a string is an XML tag if it begins with a left angle bracket \"<\" and ends with a right angle bracket \">\". \n",
    "Keep track of the number of tags using the variable count.\n",
    "\n",
    "You can assume that the list of strings will not contain empty strings.\n",
    "'''\n",
    "tokens = ['<greeting>', 'Hello World!', '</greeting>']\n",
    "count = 0\n",
    "\n",
    "# write your for loop here\n",
    "for e in tokens:\n",
    "    if e[0] == \"<\" and e[-1] == \">\":\n",
    "        count += 1\n",
    "\n",
    "print(count)"
   ]
  },
  {
   "cell_type": "code",
   "execution_count": 27,
   "metadata": {},
   "outputs": [
    {
     "name": "stdout",
     "output_type": "stream",
     "text": [
      "<ul>\n",
      "<li>first string</li>\n",
      "<li>second string</li>\n",
      "</ul>\n"
     ]
    }
   ],
   "source": [
    "'''\n",
    "Write some code, including a for loop, that iterates over a list of strings and creates a single string, html_str, which is an HTML list. \n",
    "For example, if the list is items = ['first string', 'second string'], printing html_str should output:\n",
    "\n",
    "<ul>\n",
    "<li>first string</li>\n",
    "<li>second string</li>\n",
    "</ul>\n",
    "That is, the string's first line should be the opening tag <ul>. Following that is one line per element in the source list, surrounded by <li> and </li> tags. \n",
    "The final line of the string should be the closing tag </ul>.\n",
    "'''\n",
    "\n",
    "items = ['first string', 'second string']\n",
    "html_str = \"<ul>\\n\"  # \"\\ n\" is the character that marks the end of the line, it does\n",
    "                     # the characters that are after it in html_str are on the next line\n",
    "\n",
    "# write your code here\n",
    "for e in items:\n",
    "    html_str += \"<li>\" + e + \"</li>\\n\"\n",
    "\n",
    "html_str += \"</ul>\"\n",
    "\n",
    "print(html_str)"
   ]
  },
  {
   "cell_type": "code",
   "execution_count": 29,
   "metadata": {},
   "outputs": [
    {
     "name": "stdout",
     "output_type": "stream",
     "text": [
      "23\n"
     ]
    }
   ],
   "source": [
    "# You would like to count the number of fruits in your basket. \n",
    "# In order to do this, you have the following dictionary and list of\n",
    "# fruits.  Use the dictionary and list to count the total number\n",
    "# of fruits, but you do not want to count the other items in your basket.\n",
    "\n",
    "result = 0\n",
    "basket_items = {'apples': 4, 'oranges': 19, 'kites': 3, 'sandwiches': 8}\n",
    "fruits = ['apples', 'oranges', 'pears', 'peaches', 'grapes', 'bananas']\n",
    "\n",
    "#Iterate through the dictionary\n",
    "for item in basket_items:\n",
    "#if the key is in the list of fruits, add the value (number of fruits) to result\n",
    "    if item in fruits:\n",
    "        result += basket_items[item]\n",
    "\n",
    "print(result)"
   ]
  },
  {
   "cell_type": "code",
   "execution_count": 33,
   "metadata": {},
   "outputs": [
    {
     "name": "stdout",
     "output_type": "stream",
     "text": [
      "23 11\n"
     ]
    }
   ],
   "source": [
    "# You would like to count the number of fruits in your basket. \n",
    "# In order to do this, you have the following dictionary and list of\n",
    "# fruits.  Use the dictionary and list to count the total number\n",
    "# of fruits and not_fruits.\n",
    "\n",
    "fruit_count, not_fruit_count = 0, 0\n",
    "basket_items = {'apples': 4, 'oranges': 19, 'kites': 3, 'sandwiches': 8}\n",
    "fruits = ['apples', 'oranges', 'pears', 'peaches', 'grapes', 'bananas']\n",
    "\n",
    "#Iterate through the dictionary\n",
    "for item, count in basket_items.items():\n",
    "#if the key is in the list of fruits, add to fruit_count.\n",
    "    if item in fruits:\n",
    "        fruit_count += count\n",
    "#if the key is not in the list, then add to the not_fruit_count\n",
    "    else:\n",
    "        not_fruit_count += count\n",
    "\n",
    "print(fruit_count, not_fruit_count)"
   ]
  }
 ],
 "metadata": {
  "kernelspec": {
   "display_name": "Python 3",
   "language": "python",
   "name": "python3"
  },
  "language_info": {
   "codemirror_mode": {
    "name": "ipython",
    "version": 3
   },
   "file_extension": ".py",
   "mimetype": "text/x-python",
   "name": "python",
   "nbconvert_exporter": "python",
   "pygments_lexer": "ipython3",
   "version": "3.11.3"
  },
  "orig_nbformat": 4
 },
 "nbformat": 4,
 "nbformat_minor": 2
}
